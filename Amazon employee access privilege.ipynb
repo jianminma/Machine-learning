{
 "cells": [
  {
   "cell_type": "markdown",
   "id": "3dc46e80",
   "metadata": {},
   "source": [
    "# Classification with Amazon exployee access data"
   ]
  },
  {
   "cell_type": "markdown",
   "id": "bdfb33bb",
   "metadata": {},
   "source": [
    "In this notebook, we explore classification learning with Amazon employee access data from Kaggle.\n",
    "https://www.kaggle.com/c/amazon-employee-access-challenge/data?select=train.csv\n",
    "This data has unbalance classes, which makes an interest learning experience. We will progress\n",
    "- Simple tree\n",
    "- GridSearch with simple tree\n",
    "- Gradient boosting with default\n",
    "- GBT with grid seach for better parameters\n",
    "- XGB with default\n",
    "- Deep learning\n",
    "\n",
    "We make some remarks in-time."
   ]
  },
  {
   "cell_type": "code",
   "execution_count": 1,
   "id": "f644d331",
   "metadata": {},
   "outputs": [],
   "source": [
    "import pandas as pd\n",
    "import numpy as np\n",
    "import os"
   ]
  },
  {
   "cell_type": "markdown",
   "id": "84833d85",
   "metadata": {},
   "source": [
    "## data exploration"
   ]
  },
  {
   "cell_type": "markdown",
   "id": "66e475f7",
   "metadata": {},
   "source": [
    "The dataset is downlowded to the local machine, the original data is Kaggle\n",
    "\n",
    "https://www.kaggle.com/c/amazon-employee-access-challenge/"
   ]
  },
  {
   "cell_type": "code",
   "execution_count": 2,
   "id": "ca7de164",
   "metadata": {},
   "outputs": [],
   "source": [
    "#(os.getcwd())"
   ]
  },
  {
   "cell_type": "code",
   "execution_count": 3,
   "id": "81432335",
   "metadata": {},
   "outputs": [],
   "source": [
    "data_dir = os.path.join(os.getcwd(), 'data-project\\\\amazon-ea')"
   ]
  },
  {
   "cell_type": "code",
   "execution_count": 4,
   "id": "4a58b2e3",
   "metadata": {},
   "outputs": [
    {
     "data": {
      "text/plain": [
       "['sampleSubmission.csv', 'test.csv', 'train.csv']"
      ]
     },
     "execution_count": 4,
     "metadata": {},
     "output_type": "execute_result"
    }
   ],
   "source": [
    "os.listdir(data_dir)"
   ]
  },
  {
   "cell_type": "code",
   "execution_count": 5,
   "id": "fa85464c",
   "metadata": {},
   "outputs": [],
   "source": [
    "# read the data\n",
    "train = pd.read_csv(data_dir + '\\\\train.csv')\n",
    "test = pd.read_csv(data_dir + '\\\\test.csv')"
   ]
  },
  {
   "cell_type": "code",
   "execution_count": 6,
   "id": "965a992a",
   "metadata": {},
   "outputs": [
    {
     "data": {
      "text/html": [
       "<div>\n",
       "<style scoped>\n",
       "    .dataframe tbody tr th:only-of-type {\n",
       "        vertical-align: middle;\n",
       "    }\n",
       "\n",
       "    .dataframe tbody tr th {\n",
       "        vertical-align: top;\n",
       "    }\n",
       "\n",
       "    .dataframe thead th {\n",
       "        text-align: right;\n",
       "    }\n",
       "</style>\n",
       "<table border=\"1\" class=\"dataframe\">\n",
       "  <thead>\n",
       "    <tr style=\"text-align: right;\">\n",
       "      <th></th>\n",
       "      <th>ACTION</th>\n",
       "      <th>RESOURCE</th>\n",
       "      <th>MGR_ID</th>\n",
       "      <th>ROLE_ROLLUP_1</th>\n",
       "      <th>ROLE_ROLLUP_2</th>\n",
       "      <th>ROLE_DEPTNAME</th>\n",
       "      <th>ROLE_TITLE</th>\n",
       "      <th>ROLE_FAMILY_DESC</th>\n",
       "      <th>ROLE_FAMILY</th>\n",
       "      <th>ROLE_CODE</th>\n",
       "    </tr>\n",
       "  </thead>\n",
       "  <tbody>\n",
       "    <tr>\n",
       "      <th>0</th>\n",
       "      <td>1</td>\n",
       "      <td>39353</td>\n",
       "      <td>85475</td>\n",
       "      <td>117961</td>\n",
       "      <td>118300</td>\n",
       "      <td>123472</td>\n",
       "      <td>117905</td>\n",
       "      <td>117906</td>\n",
       "      <td>290919</td>\n",
       "      <td>117908</td>\n",
       "    </tr>\n",
       "    <tr>\n",
       "      <th>1</th>\n",
       "      <td>1</td>\n",
       "      <td>17183</td>\n",
       "      <td>1540</td>\n",
       "      <td>117961</td>\n",
       "      <td>118343</td>\n",
       "      <td>123125</td>\n",
       "      <td>118536</td>\n",
       "      <td>118536</td>\n",
       "      <td>308574</td>\n",
       "      <td>118539</td>\n",
       "    </tr>\n",
       "  </tbody>\n",
       "</table>\n",
       "</div>"
      ],
      "text/plain": [
       "   ACTION  RESOURCE  MGR_ID  ROLE_ROLLUP_1  ROLE_ROLLUP_2  ROLE_DEPTNAME  \\\n",
       "0       1     39353   85475         117961         118300         123472   \n",
       "1       1     17183    1540         117961         118343         123125   \n",
       "\n",
       "   ROLE_TITLE  ROLE_FAMILY_DESC  ROLE_FAMILY  ROLE_CODE  \n",
       "0      117905            117906       290919     117908  \n",
       "1      118536            118536       308574     118539  "
      ]
     },
     "execution_count": 6,
     "metadata": {},
     "output_type": "execute_result"
    }
   ],
   "source": [
    "train.head(2)"
   ]
  },
  {
   "cell_type": "code",
   "execution_count": 7,
   "id": "bf6bff94",
   "metadata": {},
   "outputs": [
    {
     "name": "stdout",
     "output_type": "stream",
     "text": [
      "(58921, 10)\n"
     ]
    },
    {
     "data": {
      "text/html": [
       "<div>\n",
       "<style scoped>\n",
       "    .dataframe tbody tr th:only-of-type {\n",
       "        vertical-align: middle;\n",
       "    }\n",
       "\n",
       "    .dataframe tbody tr th {\n",
       "        vertical-align: top;\n",
       "    }\n",
       "\n",
       "    .dataframe thead th {\n",
       "        text-align: right;\n",
       "    }\n",
       "</style>\n",
       "<table border=\"1\" class=\"dataframe\">\n",
       "  <thead>\n",
       "    <tr style=\"text-align: right;\">\n",
       "      <th></th>\n",
       "      <th>id</th>\n",
       "      <th>RESOURCE</th>\n",
       "      <th>MGR_ID</th>\n",
       "      <th>ROLE_ROLLUP_1</th>\n",
       "      <th>ROLE_ROLLUP_2</th>\n",
       "      <th>ROLE_DEPTNAME</th>\n",
       "      <th>ROLE_TITLE</th>\n",
       "      <th>ROLE_FAMILY_DESC</th>\n",
       "      <th>ROLE_FAMILY</th>\n",
       "      <th>ROLE_CODE</th>\n",
       "    </tr>\n",
       "  </thead>\n",
       "  <tbody>\n",
       "    <tr>\n",
       "      <th>0</th>\n",
       "      <td>1</td>\n",
       "      <td>78766</td>\n",
       "      <td>72734</td>\n",
       "      <td>118079</td>\n",
       "      <td>118080</td>\n",
       "      <td>117878</td>\n",
       "      <td>117879</td>\n",
       "      <td>118177</td>\n",
       "      <td>19721</td>\n",
       "      <td>117880</td>\n",
       "    </tr>\n",
       "    <tr>\n",
       "      <th>1</th>\n",
       "      <td>2</td>\n",
       "      <td>40644</td>\n",
       "      <td>4378</td>\n",
       "      <td>117961</td>\n",
       "      <td>118327</td>\n",
       "      <td>118507</td>\n",
       "      <td>118863</td>\n",
       "      <td>122008</td>\n",
       "      <td>118398</td>\n",
       "      <td>118865</td>\n",
       "    </tr>\n",
       "  </tbody>\n",
       "</table>\n",
       "</div>"
      ],
      "text/plain": [
       "   id  RESOURCE  MGR_ID  ROLE_ROLLUP_1  ROLE_ROLLUP_2  ROLE_DEPTNAME  \\\n",
       "0   1     78766   72734         118079         118080         117878   \n",
       "1   2     40644    4378         117961         118327         118507   \n",
       "\n",
       "   ROLE_TITLE  ROLE_FAMILY_DESC  ROLE_FAMILY  ROLE_CODE  \n",
       "0      117879            118177        19721     117880  \n",
       "1      118863            122008       118398     118865  "
      ]
     },
     "execution_count": 7,
     "metadata": {},
     "output_type": "execute_result"
    }
   ],
   "source": [
    "print(test.shape)\n",
    "test.head(2)"
   ]
  },
  {
   "cell_type": "markdown",
   "id": "86d67a33",
   "metadata": {},
   "source": [
    "Note the labels are not balanced. The baseline accurary is 94.211%, and thus we will compare the accuracy of an algorithm with thus baseline."
   ]
  },
  {
   "cell_type": "code",
   "execution_count": 8,
   "id": "74fb04c1",
   "metadata": {},
   "outputs": [
    {
     "name": "stdout",
     "output_type": "stream",
     "text": [
      "1    0.94211\n",
      "0    0.05789\n",
      "Name: ACTION, dtype: float64\n"
     ]
    },
    {
     "data": {
      "text/plain": [
       "0.9421099209618847"
      ]
     },
     "execution_count": 8,
     "metadata": {},
     "output_type": "execute_result"
    }
   ],
   "source": [
    "dist = t.ACTION.value_counts()/len(train)\n",
    "print(dist)\n",
    "baseline = dist.max()\n",
    "baseline"
   ]
  },
  {
   "cell_type": "code",
   "execution_count": 9,
   "id": "e8781414",
   "metadata": {},
   "outputs": [
    {
     "data": {
      "text/plain": [
       "(0, 0)"
      ]
     },
     "execution_count": 9,
     "metadata": {},
     "output_type": "execute_result"
    }
   ],
   "source": [
    "# No missing value\n",
    "train.isna().sum().sum(), test.isna().sum().sum()"
   ]
  },
  {
   "cell_type": "markdown",
   "id": "61631610",
   "metadata": {},
   "source": [
    "## Start with a simple tree with default parameters"
   ]
  },
  {
   "cell_type": "code",
   "execution_count": 10,
   "id": "2312b762",
   "metadata": {},
   "outputs": [],
   "source": [
    "from sklearn.model_selection import train_test_split\n",
    "from sklearn.tree import DecisionTreeClassifier\n",
    "from sklearn.model_selection import cross_val_score\n",
    "\n",
    "from sklearn.model_selection import KFold"
   ]
  },
  {
   "cell_type": "code",
   "execution_count": 11,
   "id": "5badc06e",
   "metadata": {},
   "outputs": [],
   "source": [
    "# since all features are categorical data\n",
    "train = train.astype('category'); \n",
    "test = test.astype('category');"
   ]
  },
  {
   "cell_type": "markdown",
   "id": "d7ec3cf3",
   "metadata": {},
   "source": [
    "The test data has no labels, we use portion of train for testing"
   ]
  },
  {
   "cell_type": "code",
   "execution_count": 91,
   "id": "e140056e",
   "metadata": {},
   "outputs": [],
   "source": [
    "# get the features and tagret\n",
    "features, target = train.iloc[:, 1:], train.iloc[:, :1]\n",
    "\n",
    "X_train, X_test, y_train, y_test = train_test_split(\n",
    "    features, target, test_size=0.3, random_state=42)"
   ]
  },
  {
   "cell_type": "code",
   "execution_count": 78,
   "id": "bec98277",
   "metadata": {},
   "outputs": [
    {
     "data": {
      "text/plain": [
       "DecisionTreeClassifier(random_state=10)"
      ]
     },
     "execution_count": 78,
     "metadata": {},
     "output_type": "execute_result"
    }
   ],
   "source": [
    "tree= DecisionTreeClassifier(random_state=10)\n",
    "tree.fit(X_train,y_train)"
   ]
  },
  {
   "cell_type": "code",
   "execution_count": 79,
   "id": "51922d36",
   "metadata": {},
   "outputs": [
    {
     "data": {
      "text/plain": [
       "0.9231003967043027"
      ]
     },
     "execution_count": 79,
     "metadata": {},
     "output_type": "execute_result"
    }
   ],
   "source": [
    "# this is worse than the baseline\n",
    "tree.score(X_test,y_test)"
   ]
  },
  {
   "cell_type": "code",
   "execution_count": 80,
   "id": "6c7b2524",
   "metadata": {},
   "outputs": [
    {
     "name": "stdout",
     "output_type": "stream",
     "text": [
      "Now see the best model has -2.02%  over the baseline\n"
     ]
    }
   ],
   "source": [
    "lift =  (tree.score(X_test, y_test ) - baseline)/baseline * 100\n",
    "print('Now see the best model has %0.2f%%  over the baseline' %lift)"
   ]
  },
  {
   "cell_type": "code",
   "execution_count": 92,
   "id": "13d75ce0",
   "metadata": {},
   "outputs": [
    {
     "data": {
      "text/plain": [
       "((22938, 9), (22938, 1))"
      ]
     },
     "execution_count": 92,
     "metadata": {},
     "output_type": "execute_result"
    }
   ],
   "source": [
    "X_train.shape,  y_train.shape"
   ]
  },
  {
   "cell_type": "markdown",
   "id": "469f34c0",
   "metadata": {},
   "source": [
    "####  Train with 10 fold CV"
   ]
  },
  {
   "cell_type": "code",
   "execution_count": 81,
   "id": "5f5a85f2",
   "metadata": {},
   "outputs": [
    {
     "data": {
      "text/plain": [
       "array([0.93347574, 0.93317058, 0.93225511, 0.93225511, 0.9295087 ,\n",
       "       0.92920354, 0.92432103, 0.92859323, 0.93011901, 0.92429792])"
      ]
     },
     "execution_count": 81,
     "metadata": {},
     "output_type": "execute_result"
    }
   ],
   "source": [
    "tree= DecisionTreeClassifier(random_state=10)\n",
    "cross_val_score(tree, X, y, cv=10)"
   ]
  },
  {
   "cell_type": "code",
   "execution_count": 93,
   "id": "0b2ecd20",
   "metadata": {},
   "outputs": [],
   "source": [
    "from sklearn.metrics import accuracy_score\n",
    "# KFold Cross Validation approach\n",
    "kf = KFold(n_splits=10)\n",
    "  \n",
    "# Initialize the accuracy of the models to blank list. \n",
    "accuracy_model =[]\n",
    "# Iterate over each train-test split\n",
    "X = X_train.to_numpy(); y = y_train.to_numpy()\n",
    "for train_index, test_index in kf.split(X):\n",
    "    # Split train-test\n",
    "    X_train_, X_test_ = X[train_index], X[test_index]\n",
    "    y_train_, y_test_ = y[train_index], y[test_index]\n",
    "    # Train the model\n",
    "    tree= DecisionTreeClassifier(random_state=10)\n",
    "    model = tree.fit(X_train, y_train)\n",
    "    # Append to accuracy_model the accuracy of the model\n",
    "    accuracy_model.append(accuracy_score(y_test, model.predict(X_test), normalize = True)*100)"
   ]
  },
  {
   "cell_type": "code",
   "execution_count": 94,
   "id": "b1af7f53",
   "metadata": {},
   "outputs": [
    {
     "name": "stdout",
     "output_type": "stream",
     "text": [
      "[92.31003967043027, 92.31003967043027, 92.31003967043027, 92.31003967043027, 92.31003967043027, 92.31003967043027, 92.31003967043027, 92.31003967043027, 92.31003967043027, 92.31003967043027]\n"
     ]
    }
   ],
   "source": [
    "print(accuracy_model)"
   ]
  },
  {
   "cell_type": "markdown",
   "id": "690a8dc8",
   "metadata": {},
   "source": [
    "This simple model can't beat the baseline"
   ]
  },
  {
   "cell_type": "markdown",
   "id": "bc4868a7",
   "metadata": {},
   "source": [
    "### Grid Seach "
   ]
  },
  {
   "cell_type": "code",
   "execution_count": 103,
   "id": "6607504b",
   "metadata": {
    "scrolled": true
   },
   "outputs": [
    {
     "data": {
      "text/plain": [
       "GridSearchCV(cv=10, estimator=DecisionTreeClassifier(random_state=10),\n",
       "             param_grid={'criterion': ('gini', 'entropy'),\n",
       "                         'max_depth': [4, 5, 6, 7, 8, 9, 10, 11]})"
      ]
     },
     "execution_count": 103,
     "metadata": {},
     "output_type": "execute_result"
    }
   ],
   "source": [
    "from sklearn.model_selection import GridSearchCV\n",
    "grid = {\n",
    "    'criterion': ('gini', 'entropy'),\n",
    "    'max_depth': list(range(4,12))}\n",
    "\n",
    "tree= DecisionTreeClassifier(random_state=10)\n",
    "regessor = GridSearchCV(estimator=tree, param_grid = grid, cv = 10)\n",
    "regessor.fit(X_train, y_train)\n",
    "                  "
   ]
  },
  {
   "cell_type": "code",
   "execution_count": 104,
   "id": "48995f0c",
   "metadata": {},
   "outputs": [
    {
     "data": {
      "text/plain": [
       "DecisionTreeClassifier(criterion='entropy', max_depth=4, random_state=10)"
      ]
     },
     "execution_count": 104,
     "metadata": {},
     "output_type": "execute_result"
    }
   ],
   "source": [
    "regessor.best_estimator_"
   ]
  },
  {
   "cell_type": "code",
   "execution_count": 105,
   "id": "28de5aec",
   "metadata": {},
   "outputs": [
    {
     "name": "stdout",
     "output_type": "stream",
     "text": [
      "Now see the best model has 0.13%  over the baseline\n"
     ]
    }
   ],
   "source": [
    "lift =  (regessor.best_estimator_.score(X_test, y_test ) - baseline)/baseline * 100\n",
    "print('Now see the best model has %0.2f%%  over the baseline' %lift)"
   ]
  },
  {
   "cell_type": "markdown",
   "id": "a7976a01",
   "metadata": {},
   "source": [
    "## GBT "
   ]
  },
  {
   "cell_type": "code",
   "execution_count": 106,
   "id": "37593c7c",
   "metadata": {},
   "outputs": [],
   "source": [
    "from sklearn.ensemble import GradientBoostingClassifier"
   ]
  },
  {
   "cell_type": "markdown",
   "id": "5a40c45c",
   "metadata": {},
   "source": [
    "GBT with default parameters"
   ]
  },
  {
   "cell_type": "code",
   "execution_count": 107,
   "id": "4c58d80c",
   "metadata": {},
   "outputs": [],
   "source": [
    "# gbt with default\n",
    "gbm = GradientBoostingClassifier()"
   ]
  },
  {
   "cell_type": "code",
   "execution_count": 108,
   "id": "3e86911e",
   "metadata": {},
   "outputs": [
    {
     "data": {
      "text/plain": [
       "GradientBoostingClassifier()"
      ]
     },
     "execution_count": 108,
     "metadata": {},
     "output_type": "execute_result"
    }
   ],
   "source": [
    "gbm.fit(X_train, np.ravel(y_train))"
   ]
  },
  {
   "cell_type": "code",
   "execution_count": 109,
   "id": "fa2a552e",
   "metadata": {},
   "outputs": [
    {
     "data": {
      "text/plain": [
       "0.9440545214118604"
      ]
     },
     "execution_count": 109,
     "metadata": {},
     "output_type": "execute_result"
    }
   ],
   "source": [
    "# this beats the baseline\n",
    "gbm.score(X_test, y_test)"
   ]
  },
  {
   "cell_type": "code",
   "execution_count": 110,
   "id": "dbee3c5b",
   "metadata": {},
   "outputs": [
    {
     "name": "stdout",
     "output_type": "stream",
     "text": [
      "Now see the best model has 0.21%  over the baseline\n"
     ]
    }
   ],
   "source": [
    "lift =  (accuracy_score(y_test, gbm.predict(X_test)) - baseline)/baseline * 100\n",
    "print('Now see the best model has %0.2f%%  over the baseline' %lift)"
   ]
  },
  {
   "cell_type": "code",
   "execution_count": null,
   "id": "17dca82b",
   "metadata": {},
   "outputs": [],
   "source": [
    "Now we cross examine the misclassified"
   ]
  },
  {
   "cell_type": "code",
   "execution_count": 131,
   "id": "b5acf42e",
   "metadata": {},
   "outputs": [
    {
     "name": "stdout",
     "output_type": "stream",
     "text": [
      "Predicted   0     1\n",
      "Actual             \n",
      "0          11   546\n",
      "1           4  9270\n"
     ]
    }
   ],
   "source": [
    "data = pd.DataFrame({'y_Actual': np.ravel(y_test), 'y_Predicted': gbm.predict(X_test)})\n",
    "df = pd.DataFrame(data, columns=['y_Actual','y_Predicted'])\n",
    "confusion_matrix = pd.crosstab(df['y_Actual'], df['y_Predicted'], rownames=['Actual'], colnames=['Predicted'])\n",
    "print (confusion_matrix)"
   ]
  },
  {
   "cell_type": "markdown",
   "id": "032912ed",
   "metadata": {},
   "source": [
    "### Grid search for best parameters"
   ]
  },
  {
   "cell_type": "code",
   "execution_count": 149,
   "id": "b5da5411",
   "metadata": {},
   "outputs": [
    {
     "name": "stdout",
     "output_type": "stream",
     "text": [
      "Fitting 8 folds for each of 12 candidates, totalling 96 fits\n"
     ]
    },
    {
     "data": {
      "text/plain": [
       "GridSearchCV(cv=8,\n",
       "             estimator=GradientBoostingClassifier(criterion='mse',\n",
       "                                                  random_state=10),\n",
       "             param_grid={'max_depth': [4, 5, 6, 7, 8, 9, 10, 11, 12, 13, 14,\n",
       "                                       15]},\n",
       "             verbose=1)"
      ]
     },
     "execution_count": 149,
     "metadata": {},
     "output_type": "execute_result"
    }
   ],
   "source": [
    "grid = {\n",
    "#    'criterion': ('friedman_mse','mse'),\n",
    "    'max_depth': list(range(4,16))\n",
    "    }\n",
    "\n",
    "gbm= GradientBoostingClassifier(random_state=10, criterion='mse')\n",
    "regessor = GridSearchCV(estimator=gbm, param_grid = grid, cv = 8, verbose= 1)\n",
    "regessor.fit(X_train, np.ravel(y_train))"
   ]
  },
  {
   "cell_type": "code",
   "execution_count": 150,
   "id": "a27bcb6c",
   "metadata": {},
   "outputs": [
    {
     "data": {
      "text/plain": [
       "{'max_depth': 9}"
      ]
     },
     "execution_count": 150,
     "metadata": {},
     "output_type": "execute_result"
    }
   ],
   "source": [
    "regessor.best_params_"
   ]
  },
  {
   "cell_type": "code",
   "execution_count": 151,
   "id": "f109c732",
   "metadata": {},
   "outputs": [
    {
     "data": {
      "text/plain": [
       "0.9476146882311057"
      ]
     },
     "execution_count": 151,
     "metadata": {},
     "output_type": "execute_result"
    }
   ],
   "source": [
    "accuracy_score(y_test,regessor.best_estimator_.predict(X_test) )"
   ]
  },
  {
   "cell_type": "code",
   "execution_count": 137,
   "id": "91aba6f0",
   "metadata": {},
   "outputs": [
    {
     "name": "stdout",
     "output_type": "stream",
     "text": [
      "Now see the best model has 0.454739 %  over the baseline\n"
     ]
    }
   ],
   "source": [
    "lift =  (regessor.best_estimator_.score(X_test, y_test ) - baseline)/baseline\n",
    "print('Now see the best model has %f %%  over the baseline' %(lift*100))"
   ]
  },
  {
   "cell_type": "code",
   "execution_count": 154,
   "id": "4e6ee096",
   "metadata": {},
   "outputs": [
    {
     "data": {
      "image/png": "[encoded data removed]",
      "text/plain": [
       "<Figure size 432x288 with 1 Axes>"
      ]
     },
     "metadata": {
      "needs_background": "light"
     },
     "output_type": "display_data"
    }
   ],
   "source": [
    "import matplotlib.pyplot as plt\n",
    "\n",
    "# b+ is for \"blue cross\"\n",
    "#plt.plot(grid['max_depth'], regessor.cv_results_['mean_train_score'], 'b+', label='train score')\n",
    "# \"bo\" is for \"blue dot\"\n",
    "plt.plot(grid['max_depth'], regessor.cv_results_['mean_test_score'], 'bo', label='test score')\n",
    "plt.xlabel('depth')\n",
    "plt.legend()\n",
    "\n",
    "plt.show()"
   ]
  },
  {
   "cell_type": "code",
   "execution_count": null,
   "id": "158f23eb",
   "metadata": {},
   "outputs": [],
   "source": []
  },
  {
   "cell_type": "markdown",
   "id": "0bca42d1",
   "metadata": {},
   "source": [
    "## XGB "
   ]
  },
  {
   "cell_type": "markdown",
   "id": "34b62b59",
   "metadata": {},
   "source": [
    "We will experient with two encoders: label encoder and one hot encoder"
   ]
  },
  {
   "cell_type": "markdown",
   "id": "c1360635",
   "metadata": {},
   "source": [
    "#### Label encodes feature and class "
   ]
  },
  {
   "cell_type": "code",
   "execution_count": 155,
   "id": "2ae6640a",
   "metadata": {},
   "outputs": [],
   "source": [
    "from sklearn.preprocessing import LabelEncoder"
   ]
  },
  {
   "cell_type": "code",
   "execution_count": 156,
   "id": "e74dd1ea",
   "metadata": {},
   "outputs": [],
   "source": [
    "X, y = train.iloc[:, 1:], train.iloc[:, 0]"
   ]
  },
  {
   "cell_type": "code",
   "execution_count": 162,
   "id": "96b1d3b2",
   "metadata": {},
   "outputs": [],
   "source": [
    "train_dic = {}\n",
    "for col in train.columns: \n",
    "    label_encoder = LabelEncoder()\n",
    "    train_dic[col] = label_encoder.fit_transform(train[col])"
   ]
  },
  {
   "cell_type": "code",
   "execution_count": 163,
   "id": "9ab309a2",
   "metadata": {},
   "outputs": [],
   "source": [
    "X_train = pd.DataFrame(train_dic)\n",
    "X_labeled = np.copy(X_train)"
   ]
  },
  {
   "cell_type": "code",
   "execution_count": 164,
   "id": "36d302d7",
   "metadata": {},
   "outputs": [],
   "source": [
    "y_labeled = LabelEncoder().fit_transform(y)"
   ]
  },
  {
   "cell_type": "code",
   "execution_count": 165,
   "id": "aa854cff",
   "metadata": {},
   "outputs": [
    {
     "data": {
      "text/plain": [
       "array([1, 1, 1, ..., 1, 1, 1], dtype=int64)"
      ]
     },
     "execution_count": 165,
     "metadata": {},
     "output_type": "execute_result"
    }
   ],
   "source": [
    "y_labeled"
   ]
  },
  {
   "cell_type": "code",
   "execution_count": 166,
   "id": "2f4283fb",
   "metadata": {},
   "outputs": [],
   "source": [
    "# simplify train, test split\n",
    "X_train, X_test, y_train, y_test = train_test_split(X_labeled, y_labeled, test_size=0.3, random_state=42)"
   ]
  },
  {
   "cell_type": "code",
   "execution_count": 180,
   "id": "f46416ae",
   "metadata": {},
   "outputs": [],
   "source": [
    "from xgboost.sklearn import XGBClassifier\n",
    "xgbr = XGBClassifier(use_label_encoder=False)"
   ]
  },
  {
   "cell_type": "code",
   "execution_count": 181,
   "id": "6b70b34d",
   "metadata": {
    "scrolled": true
   },
   "outputs": [
    {
     "name": "stdout",
     "output_type": "stream",
     "text": [
      "[12:52:41] WARNING: ..\\src\\learner.cc:1095: Starting in XGBoost 1.3.0, the default evaluation metric used with the objective 'binary:logistic' was changed from 'error' to 'logloss'. Explicitly set eval_metric if you'd like to restore the old behavior.\n"
     ]
    },
    {
     "data": {
      "text/plain": [
       "XGBClassifier(base_score=0.5, booster='gbtree', colsample_bylevel=1,\n",
       "              colsample_bynode=1, colsample_bytree=1, gamma=0, gpu_id=-1,\n",
       "              importance_type='gain', interaction_constraints='',\n",
       "              learning_rate=0.300000012, max_delta_step=0, max_depth=6,\n",
       "              min_child_weight=1, missing=nan, monotone_constraints='()',\n",
       "              n_estimators=100, n_jobs=8, num_parallel_tree=1, random_state=0,\n",
       "              reg_alpha=0, reg_lambda=1, scale_pos_weight=1, subsample=1,\n",
       "              tree_method='exact', use_label_encoder=False,\n",
       "              validate_parameters=1, verbosity=None)"
      ]
     },
     "execution_count": 181,
     "metadata": {},
     "output_type": "execute_result"
    }
   ],
   "source": [
    "xgbr.fit(pd.DataFrame(X_train), y_train)"
   ]
  },
  {
   "cell_type": "code",
   "execution_count": 182,
   "id": "58a128ea",
   "metadata": {
    "scrolled": true
   },
   "outputs": [
    {
     "data": {
      "text/plain": [
       "0.9487335978028685"
      ]
     },
     "execution_count": 182,
     "metadata": {},
     "output_type": "execute_result"
    }
   ],
   "source": [
    "accuracy_score(y_test,xgbr.predict(X_test) )"
   ]
  },
  {
   "cell_type": "code",
   "execution_count": 185,
   "id": "14d40a0b",
   "metadata": {},
   "outputs": [
    {
     "name": "stdout",
     "output_type": "stream",
     "text": [
      "Now see the best model has 0.703068 %  over the baseline\n"
     ]
    }
   ],
   "source": [
    "lift =  (xgbr.score(X_test, y_test ) - baseline)/baseline\n",
    "print('Now see the best model has %f %%  over the baseline' %(lift*100))"
   ]
  },
  {
   "cell_type": "code",
   "execution_count": 184,
   "id": "ba52f1ec",
   "metadata": {},
   "outputs": [
    {
     "data": {
      "text/plain": [
       "(0.9487335978028685, 0.9521754294184323)"
      ]
     },
     "execution_count": 184,
     "metadata": {},
     "output_type": "execute_result"
    }
   ],
   "source": [
    "xgbr.score(X_train, y_train ), xgbr.score(X_test, y_test )"
   ]
  },
  {
   "cell_type": "markdown",
   "id": "76d5d59b",
   "metadata": {},
   "source": [
    "Note XGB performed better the GBT with default parameters"
   ]
  },
  {
   "cell_type": "markdown",
   "id": "3539f68d",
   "metadata": {},
   "source": [
    "## Deep learning "
   ]
  },
  {
   "cell_type": "code",
   "execution_count": 186,
   "id": "551d8182",
   "metadata": {},
   "outputs": [],
   "source": [
    "import keras\n",
    "from keras import models\n",
    "from keras import layers"
   ]
  },
  {
   "cell_type": "code",
   "execution_count": 187,
   "id": "9bd7dba3",
   "metadata": {},
   "outputs": [],
   "source": [
    "X, y = train.iloc[:, 1:], train.iloc[:, 0]"
   ]
  },
  {
   "cell_type": "code",
   "execution_count": 188,
   "id": "5c933566",
   "metadata": {},
   "outputs": [],
   "source": [
    "encoded_x = None\n",
    "for i in range(0, X.shape[1]):\n",
    "\tlabel_encoder = LabelEncoder()\n",
    "\tfeature = label_encoder.fit_transform(X.iloc[:,i])\n",
    "\tfeature = feature.reshape(X.shape[0], 1)\n",
    "\tonehot_encoder = OneHotEncoder(sparse=False, categories='auto')\n",
    "\tfeature = onehot_encoder.fit_transform(feature)\n",
    "\tif encoded_x is None:\n",
    "\t\tencoded_x = feature\n",
    "\telse:\n",
    "\t\tencoded_x = np.concatenate((encoded_x, feature), axis=1)"
   ]
  },
  {
   "cell_type": "code",
   "execution_count": 189,
   "id": "ecf12362",
   "metadata": {},
   "outputs": [],
   "source": [
    "from keras.utils.np_utils import to_categorical\n",
    "y_labeled = y"
   ]
  },
  {
   "cell_type": "code",
   "execution_count": null,
   "id": "a485bb24",
   "metadata": {},
   "outputs": [],
   "source": []
  },
  {
   "cell_type": "code",
   "execution_count": 190,
   "id": "84604c5b",
   "metadata": {},
   "outputs": [],
   "source": [
    "input_shape = (X_train.shape[1])"
   ]
  },
  {
   "cell_type": "code",
   "execution_count": 191,
   "id": "91299c37",
   "metadata": {},
   "outputs": [
    {
     "data": {
      "text/plain": [
       "15626"
      ]
     },
     "execution_count": 191,
     "metadata": {},
     "output_type": "execute_result"
    }
   ],
   "source": [
    "input_shape"
   ]
  },
  {
   "cell_type": "code",
   "execution_count": 192,
   "id": "b16dcccf",
   "metadata": {},
   "outputs": [],
   "source": [
    "model = models.Sequential()\n",
    "model.add(layers.Dense(64, activation='relu', input_shape=(X_train.shape[1],)))\n",
    "model.add(layers.Dense(32, activation='relu'))\n",
    "model.add(layers.Dropout(0.3))\n",
    "model.add(layers.Dense(32, activation='relu'))\n",
    "model.add(layers.Dropout(0.3))\n",
    "model.add(layers.Dense(1, activation='sigmoid'))\n",
    "\n",
    "metrics = [\n",
    "    keras.metrics.FalseNegatives(name=\"fn\"),\n",
    "    keras.metrics.FalsePositives(name=\"fp\"),\n",
    "    keras.metrics.TrueNegatives(name=\"tn\"),\n",
    "    keras.metrics.TruePositives(name=\"tp\"),\n",
    "    keras.metrics.Precision(name=\"precision\"),\n",
    "    keras.metrics.Recall(name=\"recall\"),\n",
    "]\n",
    "\n",
    "model.compile(optimizer='adam',\n",
    "              loss='binary_crossentropy',\n",
    "              metrics =metrics)"
   ]
  },
  {
   "cell_type": "code",
   "execution_count": 193,
   "id": "45fa1471",
   "metadata": {},
   "outputs": [
    {
     "name": "stdout",
     "output_type": "stream",
     "text": [
      "Model: \"sequential\"\n",
      "_________________________________________________________________\n",
      "Layer (type)                 Output Shape              Param #   \n",
      "=================================================================\n",
      "dense (Dense)                (None, 64)                1000128   \n",
      "_________________________________________________________________\n",
      "dense_1 (Dense)              (None, 32)                2080      \n",
      "_________________________________________________________________\n",
      "dropout (Dropout)            (None, 32)                0         \n",
      "_________________________________________________________________\n",
      "dense_2 (Dense)              (None, 32)                1056      \n",
      "_________________________________________________________________\n",
      "dropout_1 (Dropout)          (None, 32)                0         \n",
      "_________________________________________________________________\n",
      "dense_3 (Dense)              (None, 1)                 33        \n",
      "=================================================================\n",
      "Total params: 1,003,297\n",
      "Trainable params: 1,003,297\n",
      "Non-trainable params: 0\n",
      "_________________________________________________________________\n"
     ]
    }
   ],
   "source": [
    "model.summary()"
   ]
  },
  {
   "cell_type": "code",
   "execution_count": 194,
   "id": "2358b721",
   "metadata": {},
   "outputs": [],
   "source": [
    "X_train, X_test, y_train, y_test = train_test_split(\n",
    "    encoded_x, y_labeled, test_size=0.3, random_state=42)"
   ]
  },
  {
   "cell_type": "code",
   "execution_count": 195,
   "id": "4805cf99",
   "metadata": {},
   "outputs": [],
   "source": [
    "partial_X_train, X_val, partial_y_train, y_val = train_test_split(\n",
    "    X_train, y_train, test_size=0.3, random_state=42)"
   ]
  },
  {
   "cell_type": "code",
   "execution_count": 196,
   "id": "4b8f70b6",
   "metadata": {},
   "outputs": [
    {
     "name": "stdout",
     "output_type": "stream",
     "text": [
      "Epoch 1/20\n",
      "2007/2007 [==============================] - 16s 8ms/step - loss: 0.2156 - fn: 0.0000e+00 - fp: 961.0000 - tn: 0.0000e+00 - tp: 15095.0000 - precision: 0.9401 - recall: 1.0000 - val_loss: 0.1726 - val_fn: 0.0000e+00 - val_fp: 379.0000 - val_tn: 0.0000e+00 - val_tp: 6503.0000 - val_precision: 0.9449 - val_recall: 1.0000\n",
      "Epoch 2/20\n",
      "2007/2007 [==============================] - 13s 7ms/step - loss: 0.1388 - fn: 118.0000 - fp: 726.0000 - tn: 235.0000 - tp: 14977.0000 - precision: 0.9538 - recall: 0.9922 - val_loss: 0.1731 - val_fn: 94.0000 - val_fp: 277.0000 - val_tn: 102.0000 - val_tp: 6409.0000 - val_precision: 0.9586 - val_recall: 0.9855\n",
      "Epoch 3/20\n",
      "2007/2007 [==============================] - 12s 6ms/step - loss: 0.0948 - fn: 203.0000 - fp: 396.0000 - tn: 565.0000 - tp: 14892.0000 - precision: 0.9741 - recall: 0.9866 - val_loss: 0.2060 - val_fn: 192.0000 - val_fp: 256.0000 - val_tn: 123.0000 - val_tp: 6311.0000 - val_precision: 0.9610 - val_recall: 0.9705\n",
      "Epoch 4/20\n",
      "2007/2007 [==============================] - 14s 7ms/step - loss: 0.0676 - fn: 170.0000 - fp: 258.0000 - tn: 703.0000 - tp: 14925.0000 - precision: 0.9830 - recall: 0.9887 - val_loss: 0.2470 - val_fn: 122.0000 - val_fp: 275.0000 - val_tn: 104.0000 - val_tp: 6381.0000 - val_precision: 0.9587 - val_recall: 0.9812\n",
      "Epoch 5/20\n",
      "2007/2007 [==============================] - 14s 7ms/step - loss: 0.0485 - fn: 146.0000 - fp: 181.0000 - tn: 780.0000 - tp: 14949.0000 - precision: 0.9880 - recall: 0.9903 - val_loss: 0.3236 - val_fn: 267.0000 - val_fp: 237.0000 - val_tn: 142.0000 - val_tp: 6236.0000 - val_precision: 0.9634 - val_recall: 0.9589\n",
      "Epoch 6/20\n",
      "2007/2007 [==============================] - 12s 6ms/step - loss: 0.0369 - fn: 122.0000 - fp: 116.0000 - tn: 845.0000 - tp: 14973.0000 - precision: 0.9923 - recall: 0.9919 - val_loss: 0.3152 - val_fn: 198.0000 - val_fp: 261.0000 - val_tn: 118.0000 - val_tp: 6305.0000 - val_precision: 0.9602 - val_recall: 0.9696\n",
      "Epoch 7/20\n",
      "2007/2007 [==============================] - 12s 6ms/step - loss: 0.0278 - fn: 82.0000 - fp: 96.0000 - tn: 865.0000 - tp: 15013.0000 - precision: 0.9936 - recall: 0.9946 - val_loss: 0.4176 - val_fn: 281.0000 - val_fp: 226.0000 - val_tn: 153.0000 - val_tp: 6222.0000 - val_precision: 0.9650 - val_recall: 0.9568\n",
      "Epoch 8/20\n",
      "2007/2007 [==============================] - 13s 6ms/step - loss: 0.0223 - fn: 72.0000 - fp: 76.0000 - tn: 885.0000 - tp: 15023.0000 - precision: 0.9950 - recall: 0.9952 - val_loss: 0.5331 - val_fn: 241.0000 - val_fp: 242.0000 - val_tn: 137.0000 - val_tp: 6262.0000 - val_precision: 0.9628 - val_recall: 0.9629\n",
      "Epoch 9/20\n",
      "2007/2007 [==============================] - 12s 6ms/step - loss: 0.0174 - fn: 51.0000 - fp: 58.0000 - tn: 903.0000 - tp: 15044.0000 - precision: 0.9962 - recall: 0.9966 - val_loss: 0.6107 - val_fn: 176.0000 - val_fp: 272.0000 - val_tn: 107.0000 - val_tp: 6327.0000 - val_precision: 0.9588 - val_recall: 0.9729\n",
      "Epoch 10/20\n",
      "2007/2007 [==============================] - 13s 6ms/step - loss: 0.0124 - fn: 38.0000 - fp: 41.0000 - tn: 920.0000 - tp: 15057.0000 - precision: 0.9973 - recall: 0.9975 - val_loss: 0.5959 - val_fn: 289.0000 - val_fp: 245.0000 - val_tn: 134.0000 - val_tp: 6214.0000 - val_precision: 0.9621 - val_recall: 0.9556\n",
      "Epoch 11/20\n",
      "2007/2007 [==============================] - 13s 7ms/step - loss: 0.0100 - fn: 25.0000 - fp: 36.0000 - tn: 925.0000 - tp: 15070.0000 - precision: 0.9976 - recall: 0.9983 - val_loss: 0.7216 - val_fn: 232.0000 - val_fp: 249.0000 - val_tn: 130.0000 - val_tp: 6271.0000 - val_precision: 0.9618 - val_recall: 0.9643\n",
      "Epoch 12/20\n",
      "2007/2007 [==============================] - 14s 7ms/step - loss: 0.0070 - fn: 21.0000 - fp: 23.0000 - tn: 938.0000 - tp: 15074.0000 - precision: 0.9985 - recall: 0.9986 - val_loss: 0.7920 - val_fn: 223.0000 - val_fp: 250.0000 - val_tn: 129.0000 - val_tp: 6280.0000 - val_precision: 0.9617 - val_recall: 0.9657\n",
      "Epoch 13/20\n",
      "2007/2007 [==============================] - 14s 7ms/step - loss: 0.0074 - fn: 14.0000 - fp: 24.0000 - tn: 937.0000 - tp: 15081.0000 - precision: 0.9984 - recall: 0.9991 - val_loss: 0.6904 - val_fn: 273.0000 - val_fp: 245.0000 - val_tn: 134.0000 - val_tp: 6230.0000 - val_precision: 0.9622 - val_recall: 0.9580\n",
      "Epoch 14/20\n",
      "2007/2007 [==============================] - 13s 7ms/step - loss: 0.0041 - fn: 10.0000 - fp: 11.0000 - tn: 950.0000 - tp: 15085.0000 - precision: 0.9993 - recall: 0.9993 - val_loss: 0.8639 - val_fn: 311.0000 - val_fp: 224.0000 - val_tn: 155.0000 - val_tp: 6192.0000 - val_precision: 0.9651 - val_recall: 0.9522\n",
      "Epoch 15/20\n",
      "2007/2007 [==============================] - 15s 7ms/step - loss: 0.0040 - fn: 12.0000 - fp: 10.0000 - tn: 951.0000 - tp: 15083.0000 - precision: 0.9993 - recall: 0.9992 - val_loss: 0.9580 - val_fn: 226.0000 - val_fp: 262.0000 - val_tn: 117.0000 - val_tp: 6277.0000 - val_precision: 0.9599 - val_recall: 0.9652\n",
      "Epoch 16/20\n",
      "2007/2007 [==============================] - 16s 8ms/step - loss: 0.0017 - fn: 5.0000 - fp: 6.0000 - tn: 955.0000 - tp: 15090.0000 - precision: 0.9996 - recall: 0.9997 - val_loss: 1.1914 - val_fn: 248.0000 - val_fp: 246.0000 - val_tn: 133.0000 - val_tp: 6255.0000 - val_precision: 0.9622 - val_recall: 0.9619\n",
      "Epoch 17/20\n",
      "2007/2007 [==============================] - 14s 7ms/step - loss: 0.0016 - fn: 5.0000 - fp: 5.0000 - tn: 956.0000 - tp: 15090.0000 - precision: 0.9997 - recall: 0.9997 - val_loss: 1.2001 - val_fn: 312.0000 - val_fp: 223.0000 - val_tn: 156.0000 - val_tp: 6191.0000 - val_precision: 0.9652 - val_recall: 0.9520\n",
      "Epoch 18/20\n",
      "2007/2007 [==============================] - 14s 7ms/step - loss: 0.0018 - fn: 3.0000 - fp: 4.0000 - tn: 957.0000 - tp: 15092.0000 - precision: 0.9997 - recall: 0.9998 - val_loss: 1.1958 - val_fn: 285.0000 - val_fp: 239.0000 - val_tn: 140.0000 - val_tp: 6218.0000 - val_precision: 0.9630 - val_recall: 0.9562\n",
      "Epoch 19/20\n",
      "2007/2007 [==============================] - 16s 8ms/step - loss: 0.0010 - fn: 4.0000 - fp: 4.0000 - tn: 957.0000 - tp: 15091.0000 - precision: 0.9997 - recall: 0.9997 - val_loss: 1.3486 - val_fn: 301.0000 - val_fp: 228.0000 - val_tn: 151.0000 - val_tp: 6202.0000 - val_precision: 0.9645 - val_recall: 0.9537\n",
      "Epoch 20/20\n",
      "2007/2007 [==============================] - 17s 9ms/step - loss: 0.0014 - fn: 3.0000 - fp: 5.0000 - tn: 956.0000 - tp: 15092.0000 - precision: 0.9997 - recall: 0.9998 - val_loss: 1.3884 - val_fn: 232.0000 - val_fp: 249.0000 - val_tn: 130.0000 - val_tp: 6271.0000 - val_precision: 0.9618 - val_recall: 0.9643\n"
     ]
    }
   ],
   "source": [
    "history = model.fit(partial_X_train,\n",
    "                    partial_y_train,\n",
    "                    epochs=20,\n",
    "                    batch_size=8,\n",
    "                    validation_data=(X_val, y_val))"
   ]
  },
  {
   "cell_type": "code",
   "execution_count": 272,
   "id": "fd2650b7",
   "metadata": {},
   "outputs": [
    {
     "data": {
      "text/plain": [
       "dict_keys(['loss', 'fn', 'fp', 'tn', 'tp', 'precision', 'recall', 'val_loss', 'val_fn', 'val_fp', 'val_tn', 'val_tp', 'val_precision', 'val_recall'])"
      ]
     },
     "execution_count": 272,
     "metadata": {},
     "output_type": "execute_result"
    }
   ],
   "source": [
    "history.history.keys()"
   ]
  },
  {
   "cell_type": "code",
   "execution_count": 197,
   "id": "3bdd4efa",
   "metadata": {},
   "outputs": [],
   "source": [
    "y_pred = model.predict(X_test) "
   ]
  },
  {
   "cell_type": "code",
   "execution_count": 204,
   "id": "f4ac8670",
   "metadata": {},
   "outputs": [],
   "source": [
    "y_pred = [1 if y_pred[i,0] > 0 else 0  for i in range(y_pred.shape[0])]"
   ]
  },
  {
   "cell_type": "code",
   "execution_count": 210,
   "id": "6fdecaa9",
   "metadata": {},
   "outputs": [
    {
     "name": "stdout",
     "output_type": "stream",
     "text": [
      "Test score: 0.943%\n",
      "This model has  a lift: 0.131%  over the baseline\n"
     ]
    }
   ],
   "source": [
    "print('Test score: %0.3f%%' %accuracy_score(y_test,y_pred))\n",
    "\n",
    "lift =  (accuracy_score(y_test,y_pred) - baseline)/baseline\n",
    "print('This model has  a lift: %0.3f%%  over the baseline' %(lift*100))"
   ]
  },
  {
   "cell_type": "code",
   "execution_count": 274,
   "id": "7c20c1e1",
   "metadata": {},
   "outputs": [
    {
     "data": {
      "image/png": "[encoded data removed]",
      "text/plain": [
       "<Figure size 432x288 with 1 Axes>"
      ]
     },
     "metadata": {
      "needs_background": "light"
     },
     "output_type": "display_data"
    }
   ],
   "source": [
    "import matplotlib.pyplot as plt\n",
    "\n",
    "# b+ is for \"blue cross\"\n",
    "plt.plot(history.history['loss'], 'b+', label='train loss')\n",
    "# \"bo\" is for \"blue dot\"\n",
    "plt.plot( history.history['val_loss'], 'bo', label='val_loss')\n",
    "plt.xlabel('epoch')\n",
    "plt.legend()\n",
    "\n",
    "plt.show()"
   ]
  },
  {
   "cell_type": "code",
   "execution_count": 275,
   "id": "a7440988",
   "metadata": {},
   "outputs": [
    {
     "data": {
      "image/png": "[encoded data removed]",
      "text/plain": [
       "<Figure size 432x288 with 1 Axes>"
      ]
     },
     "metadata": {
      "needs_background": "light"
     },
     "output_type": "display_data"
    }
   ],
   "source": [
    "# b+ is for \"blue cross\"\n",
    "plt.plot(history.history['val_precision'], 'b+', label='val_precision')\n",
    "# \"bo\" is for \"blue dot\"\n",
    "plt.plot( history.history['val_recall'], 'bo', label='val_recall')\n",
    "plt.xlabel('epoch')\n",
    "plt.legend()\n",
    "\n",
    "plt.show()"
   ]
  },
  {
   "cell_type": "markdown",
   "id": "7f522a34",
   "metadata": {},
   "source": [
    "We use several metrics here and can evaluate the model better. From the loss function (train, validation), there is overfitting. "
   ]
  },
  {
   "cell_type": "code",
   "execution_count": null,
   "id": "f0677a77",
   "metadata": {},
   "outputs": [],
   "source": []
  }
 ],
 "metadata": {
  "kernelspec": {
   "display_name": "Python 3",
   "language": "python",
   "name": "python3"
  },
  "language_info": {
   "codemirror_mode": {
    "name": "ipython",
    "version": 3
   },
   "file_extension": ".py",
   "mimetype": "text/x-python",
   "name": "python",
   "nbconvert_exporter": "python",
   "pygments_lexer": "ipython3",
   "version": "3.8.8"
  }
 },
 "nbformat": 4,
 "nbformat_minor": 5
}
